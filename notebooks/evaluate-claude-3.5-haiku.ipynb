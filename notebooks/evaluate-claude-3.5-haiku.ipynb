{
 "cells": [
  {
   "cell_type": "code",
   "execution_count": 1,
   "metadata": {},
   "outputs": [],
   "source": [
    "import os\n",
    "import sys\n",
    "\n",
    "module_path = os.path.abspath(os.path.join(\"..\"))\n",
    "if module_path not in sys.path:\n",
    "    sys.path.append(module_path)\n"
   ]
  },
  {
   "cell_type": "code",
   "execution_count": 2,
   "metadata": {},
   "outputs": [],
   "source": [
    "import hashlib\n",
    "import re\n",
    "from typing import Tuple\n",
    "\n",
    "from src.debate.types import DebateScenario\n",
    "\n",
    "\n",
    "def get_id(text: str) -> str:\n",
    "    \"\"\"Get the unique ID for the scenario.\"\"\"\n",
    "    return hashlib.md5(text.encode()).hexdigest()\n",
    "\n",
    "\n",
    "def split_question(example: str) -> Tuple[str, str]:\n",
    "    \"\"\"Split the example text into the game and the question.\"\"\"\n",
    "    example_text = example\n",
    "    question = re.split(r\"\\.\\s+\", example_text)[-1]\n",
    "    game = example_text.replace(question, \"\").strip()\n",
    "    return game, question\n",
    "\n",
    "\n",
    "def convert_to_scenarios(examples: list) -> list[DebateScenario]:\n",
    "    \"\"\"Convert BoardgameQA examples to DebateScenario objects.\"\"\"\n",
    "\n",
    "    scenarios = []\n",
    "    for ex in examples:\n",
    "        situation, question = split_question(ex[\"example\"])\n",
    "        scenario = DebateScenario(\n",
    "            id=get_id(ex[\"example\"]),\n",
    "            situation=situation,\n",
    "            question=question,\n",
    "            answer_options=[\"proved\", \"disproved\", \"unknown\"],\n",
    "            label=ex[\"label\"],\n",
    "            level=ex[\"level\"],\n",
    "        )\n",
    "        scenarios.append(scenario)\n",
    "    return scenarios"
   ]
  },
  {
   "cell_type": "markdown",
   "metadata": {},
   "source": [
    "# Open the list of data"
   ]
  },
  {
   "cell_type": "code",
   "execution_count": 3,
   "metadata": {},
   "outputs": [
    {
     "name": "stdout",
     "output_type": "stream",
     "text": [
      "Number of scenarios: 120\n"
     ]
    }
   ],
   "source": [
    "import json\n",
    "from typing import Dict\n",
    "\n",
    "LEVELS = [\"LowConflict\", \"HighConflict\"]\n",
    "scenarios: Dict[str, DebateScenario] = {}\n",
    "scenario_list = []\n",
    "\n",
    "with open(\"../data/sampled_boardgame_qa.jsonl\") as f:\n",
    "    for line in f.readlines():\n",
    "        data = json.loads(line)\n",
    "        if data[\"level\"] in LEVELS:\n",
    "            scenario = convert_to_scenarios([data])\n",
    "            scenarios[scenario[0].id] = scenario[0]\n",
    "            scenario_list.append(scenario[0])\n",
    "\n",
    "print(f\"Number of scenarios: {len(scenarios)}\")"
   ]
  },
  {
   "cell_type": "markdown",
   "metadata": {},
   "source": [
    "# Open the records"
   ]
  },
  {
   "cell_type": "code",
   "execution_count": 4,
   "metadata": {},
   "outputs": [
    {
     "name": "stdout",
     "output_type": "stream",
     "text": [
      "Number of batch:\n",
      "  - baselines: 24\n",
      "  - debates: 24\n",
      "  - judgements: 24\n"
     ]
    }
   ],
   "source": [
    "from pathlib import Path\n",
    "\n",
    "result_path = Path(\"../results/self-play-claude-3.5-haiku\")\n",
    "baseline_batch_path = sorted(result_path.glob(\"baseline_*.json\"))\n",
    "debates_batch_path = sorted(result_path.glob(\"debates_*.json\"))\n",
    "judgements_batch_path = sorted(result_path.glob(\"judgments_*.json\"))\n",
    "\n",
    "print(\"Number of batch:\")\n",
    "print(f\"  - baselines: {len(baseline_batch_path)}\")\n",
    "print(f\"  - debates: {len(debates_batch_path)}\")\n",
    "print(f\"  - judgements: {len(judgements_batch_path)}\")"
   ]
  },
  {
   "cell_type": "code",
   "execution_count": 5,
   "metadata": {},
   "outputs": [],
   "source": [
    "from dotenv import load_dotenv\n",
    "\n",
    "load_dotenv()\n",
    "\n",
    "from langfuse import Langfuse\n",
    "\n",
    "lf = Langfuse(\n",
    "    host=os.getenv(\"LANGFUSE_HOST\"),\n",
    "    public_key=os.getenv(\"LANGFUSE_PUBLIC_KEY\"),\n",
    "    secret_key=os.getenv(\"LANGFUSE_SECRET_KEY\"),\n",
    ")\n",
    "\n",
    "\n",
    "def get_situation_question(text: str) -> str:\n",
    "    \"\"\"Split the example text into the game and the question.\"\"\"\n",
    "    situation = re.findall(\"<situation>(.*?)</situation>\", text, re.DOTALL)[0].strip()\n",
    "    question = re.findall(\"<question>(.*?)</question>\", text, re.DOTALL)[0].strip()\n",
    "    return f\"{situation} {question}\"\n",
    "\n",
    "\n",
    "def get_scenario_id(baseline_dict: dict) -> str:\n",
    "    \"\"\"Get the scenario ID from the baseline dictionary.\"\"\"\n",
    "    traces = lf.fetch_traces(user_id=baseline_dict[\"id\"]).data\n",
    "    if traces:\n",
    "        if observatio_ids := traces[0].observations:\n",
    "            for observation_id in observatio_ids:\n",
    "                observations = lf.fetch_observation(observation_id).data\n",
    "                contents = [obs[\"content\"] for obs in observations.input]\n",
    "                sq = get_situation_question(\"\\n\".join(contents))\n",
    "                scenario_id = get_id(sq)\n",
    "                if scenario_id in scenarios:\n",
    "                    return scenario_id"
   ]
  },
  {
   "cell_type": "code",
   "execution_count": 6,
   "metadata": {},
   "outputs": [
    {
     "name": "stdout",
     "output_type": "stream",
     "text": [
      "\n",
      "Batch 0\n",
      "  - Number of baselines: 5\n",
      "  - Number of debates: 15\n",
      "  - Number of judgements: 15\n",
      "Baseline 501c4796-c911-4b69-9486-9789d63db40a not found\n",
      "\n",
      "Batch 1\n",
      "  - Number of baselines: 5\n",
      "  - Number of debates: 15\n",
      "  - Number of judgements: 15\n",
      "Baseline 7597301a-010c-478b-ae5d-bfc91b581d24 not found\n",
      "\n",
      "Batch 2\n",
      "  - Number of baselines: 5\n",
      "  - Number of debates: 15\n",
      "  - Number of judgements: 15\n",
      "Baseline ad786668-ecc0-46c0-81c9-e91546caaf72 not found\n",
      "\n",
      "Batch 3\n",
      "  - Number of baselines: 5\n",
      "  - Number of debates: 15\n",
      "  - Number of judgements: 15\n",
      "Baseline 43133445-18e9-4b6d-b07b-7efcb923f6c6 not found\n",
      "\n",
      "Batch 4\n",
      "  - Number of baselines: 5\n",
      "  - Number of debates: 15\n",
      "  - Number of judgements: 15\n",
      "Baseline 13a5d9b2-7c3f-46c7-a0e8-58c10ad99f5e not found\n",
      "Baseline 91221e5f-b165-4eff-bda0-546c1b79e176 not found\n",
      "\n",
      "Batch 5\n",
      "  - Number of baselines: 5\n",
      "  - Number of debates: 15\n",
      "  - Number of judgements: 15\n",
      "Baseline 265f7a60-5ef1-465e-b5a1-e7eb490d9531 not found\n",
      "\n",
      "Batch 6\n",
      "  - Number of baselines: 5\n",
      "  - Number of debates: 15\n",
      "  - Number of judgements: 15\n",
      "Baseline 5921bb0c-a660-4cec-be4f-9be79a2b56e6 not found\n",
      "\n",
      "Batch 7\n",
      "  - Number of baselines: 5\n",
      "  - Number of debates: 15\n",
      "  - Number of judgements: 15\n",
      "Baseline bbe13940-8f48-45cf-83e0-49469f136dcc not found\n",
      "\n",
      "Batch 8\n",
      "  - Number of baselines: 5\n",
      "  - Number of debates: 15\n",
      "  - Number of judgements: 15\n",
      "Baseline 6e0e30ff-d919-4987-9ef2-aebca4d13120 not found\n",
      "\n",
      "Batch 9\n",
      "  - Number of baselines: 5\n",
      "  - Number of debates: 15\n",
      "  - Number of judgements: 15\n",
      "Baseline 5ae584ef-b1d8-4df5-b39f-f36a12b67d49 not found\n",
      "\n",
      "Batch 10\n",
      "  - Number of baselines: 5\n",
      "  - Number of debates: 15\n",
      "  - Number of judgements: 15\n",
      "Baseline 2e673cbb-2244-4cfe-88bf-b4921d7ec2cb not found\n",
      "\n",
      "Batch 11\n",
      "  - Number of baselines: 5\n",
      "  - Number of debates: 15\n",
      "  - Number of judgements: 15\n",
      "Baseline 1a2fca77-a40a-4e10-9d4a-fcbe9acab56f not found\n",
      "\n",
      "Batch 12\n",
      "  - Number of baselines: 5\n",
      "  - Number of debates: 15\n",
      "  - Number of judgements: 15\n",
      "Baseline 7c5461d9-a745-4a73-a6b0-625be652251c not found\n",
      "\n",
      "Batch 13\n",
      "  - Number of baselines: 5\n",
      "  - Number of debates: 15\n",
      "  - Number of judgements: 15\n",
      "Baseline d1e84ca0-06c3-4a89-bd18-f8d057056f05 not found\n",
      "\n",
      "Batch 14\n",
      "  - Number of baselines: 5\n",
      "  - Number of debates: 15\n",
      "  - Number of judgements: 15\n",
      "Baseline 84511c6b-a9a5-44d1-9398-f6df412161d8 not found\n",
      "\n",
      "Batch 15\n",
      "  - Number of baselines: 5\n",
      "  - Number of debates: 15\n",
      "  - Number of judgements: 15\n",
      "Baseline c5f06d36-cb31-4e20-92cf-bd8abdb9809a not found\n",
      "\n",
      "Batch 16\n",
      "  - Number of baselines: 5\n",
      "  - Number of debates: 15\n",
      "  - Number of judgements: 15\n",
      "Baseline 5a3f06c9-8072-4c15-ae0f-161b082602fc not found\n",
      "\n",
      "Batch 17\n",
      "  - Number of baselines: 5\n",
      "  - Number of debates: 15\n",
      "  - Number of judgements: 15\n",
      "Baseline 6c70266f-b43e-4e45-b963-36b3359cd059 not found\n",
      "\n",
      "Batch 18\n",
      "  - Number of baselines: 5\n",
      "  - Number of debates: 15\n",
      "  - Number of judgements: 15\n",
      "Baseline 3980d31e-b368-4c94-9938-6eb604dd39c8 not found\n",
      "\n",
      "Batch 19\n",
      "  - Number of baselines: 5\n",
      "  - Number of debates: 15\n",
      "  - Number of judgements: 15\n",
      "Baseline a4916c0b-74df-4783-808e-649190de6376 not found\n",
      "\n",
      "Batch 20\n",
      "  - Number of baselines: 5\n",
      "  - Number of debates: 15\n",
      "  - Number of judgements: 15\n",
      "Baseline bb5a4af8-b279-42e2-a3f7-86e9818e10f8 not found\n",
      "\n",
      "Batch 21\n",
      "  - Number of baselines: 5\n",
      "  - Number of debates: 15\n",
      "  - Number of judgements: 15\n",
      "Baseline cb513a05-ba9b-41a1-bc64-1857a7c6f6e4 not found\n",
      "\n",
      "Batch 22\n",
      "  - Number of baselines: 5\n",
      "  - Number of debates: 15\n",
      "  - Number of judgements: 15\n",
      "Baseline 15b8e1ce-a424-48cf-a4ec-b182ede0ee8c not found\n",
      "\n",
      "Batch 23\n",
      "  - Number of baselines: 5\n",
      "  - Number of debates: 15\n",
      "  - Number of judgements: 15\n",
      "Baseline 2104fb5f-c9a6-4913-ab5c-c5d530505d7c not found\n",
      "Number of scenarios : 120\n",
      "Number of baselines : 120\n",
      "Number of debates   : 360\n",
      "Number of judgements: 360\n",
      "Number of problematic baselines: 25\n"
     ]
    }
   ],
   "source": [
    "MODEL_NAME = \"claude-3.5-haiku\"\n",
    "scenario2record = {}  # key: scenario_id, value: list of record_id\n",
    "baseline_records = {}  # key: scenario_id, value: list of baseline records\n",
    "debate_records = {}  # key: record_id, value: debate record\n",
    "judge_records = {}  # key: record_id, value: judgement record\n",
    "\n",
    "baseline_count = 0\n",
    "problematic_baseline = []\n",
    "\n",
    "for i in range(len(baseline_batch_path)):\n",
    "    with open(baseline_batch_path[i]) as f:\n",
    "        baseline_ = json.load(f)\n",
    "        baseline_ = list(baseline_.values())[0]\n",
    "    with open(debates_batch_path[i]) as f:\n",
    "        debates_ = json.load(f)\n",
    "    with open(judgements_batch_path[i]) as f:\n",
    "        judgements_ = json.load(f)\n",
    "        judgements_ = list(judgements_.values())[0]\n",
    "\n",
    "    print(f\"\\nBatch {i}\")\n",
    "    print(f\"  - Number of baselines: {len(baseline_)}\")\n",
    "    print(f\"  - Number of debates: {len(debates_)}\")\n",
    "    print(f\"  - Number of judgements: {len(judgements_)}\")\n",
    "\n",
    "    scenario_this_batch = {}\n",
    "\n",
    "    for debate in debates_:\n",
    "        record_id = debate[\"id\"]\n",
    "        situation = debate[\"scenario\"][\"situation\"]\n",
    "        question = debate[\"scenario\"][\"question\"]\n",
    "        scenario_id = get_id(f\"{situation} {question}\")\n",
    "        if scenario_id not in scenario2record:\n",
    "            scenario2record[scenario_id] = []\n",
    "        scenario2record[scenario_id].append(record_id)\n",
    "        scenario = debate.pop(\"scenario\")\n",
    "        scenario_this_batch[scenario_id] = scenario\n",
    "\n",
    "        debate.pop(\"id\")\n",
    "        debate_records[record_id] = debate\n",
    "\n",
    "    for judgement in judgements_:\n",
    "        record_id = judgement[\"id\"]\n",
    "        judgement.pop(\"id\")\n",
    "        judge_records[record_id] = judgement\n",
    "\n",
    "    for baseline in baseline_:\n",
    "        scenario_id = get_scenario_id(baseline)\n",
    "        if scenario_id:\n",
    "            baseline_records[scenario_id] = baseline\n",
    "        else:\n",
    "            print(f\"Baseline {baseline['id']} not found\")\n",
    "            problematic_baseline.append(baseline)\n",
    "            baseline_records[baseline[\"id\"]] = baseline\n",
    "\n",
    "\n",
    "print(f\"Number of scenarios : {len(scenario2record)}\")\n",
    "print(f\"Number of baselines : {len(baseline_records)}\")\n",
    "print(f\"Number of debates   : {len(debate_records)}\")\n",
    "print(f\"Number of judgements: {len(judge_records)}\")\n",
    "print(f\"Number of problematic baselines: {len(problematic_baseline)}\")"
   ]
  },
  {
   "cell_type": "code",
   "execution_count": 7,
   "metadata": {},
   "outputs": [
    {
     "data": {
      "text/plain": [
       "360"
      ]
     },
     "execution_count": 7,
     "metadata": {},
     "output_type": "execute_result"
    }
   ],
   "source": [
    "record2scenario = {rec: sce for sce, recs in scenario2record.items() for rec in recs}\n",
    "len(record2scenario)"
   ]
  },
  {
   "cell_type": "code",
   "execution_count": 8,
   "metadata": {},
   "outputs": [
    {
     "name": "stdout",
     "output_type": "stream",
     "text": [
      "501c4796-c911-4b69-9486-9789d63db40a\n",
      "The bulldog is watching a movie from 1907\n",
      "\n",
      "7597301a-010c-478b-ae5d-bfc91b581d24\n",
      "The fangtooth is watching a movie from 1955\n",
      "\n",
      "ad786668-ecc0-46c0-81c9-e91546caaf72\n",
      "The dinosaur convinces the owl\n",
      "\n",
      "43133445-18e9-4b6d-b07b-7efcb923f6c6\n",
      "The songbird creates one castle for the rhino\n",
      "\n",
      "13a5d9b2-7c3f-46c7-a0e8-58c10ad99f5e\n",
      "The monkey (Max) has 90 dollars\n",
      "\n",
      "91221e5f-b165-4eff-bda0-546c1b79e176\n",
      "The wolf has a red card\n",
      "\n",
      "265f7a60-5ef1-465e-b5a1-e7eb490d9531\n",
      "The dove has 50 dollars\n",
      "\n",
      "5921bb0c-a660-4cec-be4f-9be79a2b56e6\n",
      "Chinchilla is named Lucy\n",
      "\n",
      "bbe13940-8f48-45cf-83e0-49469f136dcc\n",
      "Cobra is named Milo\n",
      "\n",
      "6e0e30ff-d919-4987-9ef2-aebca4d13120\n",
      "The pelikan has 74 dollars\n",
      "\n",
      "5ae584ef-b1d8-4df5-b39f-f36a12b67d49\n",
      "The elk swims in the pool next to the chinchilla's house\n",
      "\n",
      "2e673cbb-2244-4cfe-88bf-b4921d7ec2cb\n",
      "The bear is named Luna\n",
      "\n",
      "1a2fca77-a40a-4e10-9d4a-fcbe9acab56f\n",
      "The llama has an orange card\n",
      "\n",
      "7c5461d9-a745-4a73-a6b0-625be652251c\n",
      "The elk has a harmonica\n",
      "\n",
      "d1e84ca0-06c3-4a89-bd18-f8d057056f05\n",
      "The frog is watching a movie from 2023\n",
      "\n",
      "84511c6b-a9a5-44d1-9398-f6df412161d8\n",
      "The dragonfly disarms the wolf\n",
      "\n",
      "c5f06d36-cb31-4e20-92cf-bd8abdb9809a\n",
      "The coyote swears to the german shepherd\n",
      "\n",
      "5a3f06c9-8072-4c15-ae0f-161b082602fc\n",
      "The ostrich is in Ottawa (which is in Canada)\n",
      "\n",
      "6c70266f-b43e-4e45-b963-36b3359cd059\n",
      "The akita builds a power plant near the green fields of the crow\n",
      "\n",
      "3980d31e-b368-4c94-9938-6eb604dd39c8\n",
      "The gorilla has a 10 x 16 inches notebook\n",
      "\n",
      "a4916c0b-74df-4783-808e-649190de6376\n",
      "The basenji has 11 friends\n",
      "\n",
      "bb5a4af8-b279-42e2-a3f7-86e9818e10f8\n",
      "The finch is in Berlin (which is in Germany)\n",
      "\n",
      "cb513a05-ba9b-41a1-bc64-1857a7c6f6e4\n",
      "The owl currently has a cello (a musical instrument)\n",
      "\n",
      "15b8e1ce-a424-48cf-a4ec-b182ede0ee8c\n",
      "The goat creates one castle for the snake\n",
      "\n",
      "2104fb5f-c9a6-4913-ab5c-c5d530505d7c\n",
      "The flamingo enjoys the company of the songbird\n",
      "\n"
     ]
    }
   ],
   "source": [
    "# Get the line of the baseline judgement\n",
    "for problem in problematic_baseline:\n",
    "    print(problem[\"id\"])\n",
    "    print(problem[\"judgment\"].split(\"\\n\")[4][2:])\n",
    "    print()"
   ]
  },
  {
   "cell_type": "code",
   "execution_count": 9,
   "metadata": {},
   "outputs": [
    {
     "data": {
      "text/plain": [
       "(True, 'eced42550a1f6fa49707c6e533fe0d44')"
      ]
     },
     "execution_count": 9,
     "metadata": {},
     "output_type": "execute_result"
    }
   ],
   "source": [
    "# Sanity check\n",
    "record_id = \"3f793ccb-10e5-460e-bdd6-0856e95e4593\"\n",
    "record2scenario[record_id] not in baseline_records, record2scenario[record_id]"
   ]
  },
  {
   "cell_type": "code",
   "execution_count": 10,
   "metadata": {},
   "outputs": [
    {
     "name": "stdout",
     "output_type": "stream",
     "text": [
      "Replace 501c4796-c911-4b69-9486-9789d63db40a with 7dd4de9db2892178fa5ba47472c1f7a7\n",
      "Replace 7597301a-010c-478b-ae5d-bfc91b581d24 with c247d28bdedf9d10a7fdb548601c5c3f\n",
      "Replace ad786668-ecc0-46c0-81c9-e91546caaf72 with 2a3fd7fc41048b87ae847b1c2b213eaa\n",
      "Replace 43133445-18e9-4b6d-b07b-7efcb923f6c6 with 51f04d6ac1cea47bf917fcea1d8cf3fd\n",
      "Replace 13a5d9b2-7c3f-46c7-a0e8-58c10ad99f5e with 915eb90d8c288df52e74c292fb9bef96\n",
      "Replace 91221e5f-b165-4eff-bda0-546c1b79e176 with bccc6fc66c08f1d61545c53acb8a20a7\n",
      "Replace 265f7a60-5ef1-465e-b5a1-e7eb490d9531 with cc30a2570cb8a12ccc629c3c3f94a6c3\n",
      "Replace 5921bb0c-a660-4cec-be4f-9be79a2b56e6 with bbefdeb0c4de615da9b165d2c160a818\n",
      "Replace bbe13940-8f48-45cf-83e0-49469f136dcc with da389cc894015ed6374554c62b334646\n",
      "Replace 6e0e30ff-d919-4987-9ef2-aebca4d13120 with 16ac3e4888cba4553fc8aaaf002e1fb0\n",
      "Replace 5ae584ef-b1d8-4df5-b39f-f36a12b67d49 with d49c88a215021df70dafb455b0d8a49b\n",
      "Replace 2e673cbb-2244-4cfe-88bf-b4921d7ec2cb with 868248929d9028b28a3adb63271b484f\n",
      "Replace 1a2fca77-a40a-4e10-9d4a-fcbe9acab56f with 54b86326729f3697f5e9e4e2956aa867\n",
      "Replace 7c5461d9-a745-4a73-a6b0-625be652251c with 5a403b90860db9e409dcf80db7d2d3f2\n",
      "Replace d1e84ca0-06c3-4a89-bd18-f8d057056f05 with a0bfb87225bc8b97730f23c978fbbc71\n",
      "Replace 84511c6b-a9a5-44d1-9398-f6df412161d8 with 68fb90f6350de4b804c1c1dad37fe85e\n",
      "Replace c5f06d36-cb31-4e20-92cf-bd8abdb9809a with c5608d220836d96e64609d843f61f30c\n",
      "Replace 5a3f06c9-8072-4c15-ae0f-161b082602fc with 2d5795e57ded035e4358dbf645b410f2\n",
      "Replace 6c70266f-b43e-4e45-b963-36b3359cd059 with 3ace07a009ef259c33ef3dacd82a2fcb\n",
      "Replace 3980d31e-b368-4c94-9938-6eb604dd39c8 with 6cfda29cce95e99b8557b02a7329a2d7\n",
      "Replace a4916c0b-74df-4783-808e-649190de6376 with 09000c3d82cda08090f3527f6ace6ce4\n",
      "Replace bb5a4af8-b279-42e2-a3f7-86e9818e10f8 with 78771f21f888ff8325a1fa4d20a11898\n",
      "Replace cb513a05-ba9b-41a1-bc64-1857a7c6f6e4 with 7ca0a3144173fa83e8cf10035fd4c1bb\n",
      "Replace 15b8e1ce-a424-48cf-a4ec-b182ede0ee8c with 8eec006866fa99193f94453de6540673\n",
      "Replace 2104fb5f-c9a6-4913-ab5c-c5d530505d7c with eced42550a1f6fa49707c6e533fe0d44\n"
     ]
    }
   ],
   "source": [
    "mapping = {\n",
    "    \"501c4796-c911-4b69-9486-9789d63db40a\": \"7dd4de9db2892178fa5ba47472c1f7a7\",\n",
    "    \"7597301a-010c-478b-ae5d-bfc91b581d24\": \"c247d28bdedf9d10a7fdb548601c5c3f\",\n",
    "    \"ad786668-ecc0-46c0-81c9-e91546caaf72\": \"2a3fd7fc41048b87ae847b1c2b213eaa\",\n",
    "    \"43133445-18e9-4b6d-b07b-7efcb923f6c6\": \"51f04d6ac1cea47bf917fcea1d8cf3fd\",\n",
    "    \"13a5d9b2-7c3f-46c7-a0e8-58c10ad99f5e\": \"915eb90d8c288df52e74c292fb9bef96\",\n",
    "    \"91221e5f-b165-4eff-bda0-546c1b79e176\": \"bccc6fc66c08f1d61545c53acb8a20a7\",\n",
    "    \"265f7a60-5ef1-465e-b5a1-e7eb490d9531\": \"cc30a2570cb8a12ccc629c3c3f94a6c3\",\n",
    "    \"5921bb0c-a660-4cec-be4f-9be79a2b56e6\": \"bbefdeb0c4de615da9b165d2c160a818\",\n",
    "    \"bbe13940-8f48-45cf-83e0-49469f136dcc\": \"da389cc894015ed6374554c62b334646\",\n",
    "    \"6e0e30ff-d919-4987-9ef2-aebca4d13120\": \"16ac3e4888cba4553fc8aaaf002e1fb0\",\n",
    "    \"5ae584ef-b1d8-4df5-b39f-f36a12b67d49\": \"d49c88a215021df70dafb455b0d8a49b\",\n",
    "    \"2e673cbb-2244-4cfe-88bf-b4921d7ec2cb\": \"868248929d9028b28a3adb63271b484f\",\n",
    "    \"1a2fca77-a40a-4e10-9d4a-fcbe9acab56f\": \"54b86326729f3697f5e9e4e2956aa867\",\n",
    "    \"7c5461d9-a745-4a73-a6b0-625be652251c\": \"5a403b90860db9e409dcf80db7d2d3f2\",\n",
    "    \"d1e84ca0-06c3-4a89-bd18-f8d057056f05\": \"a0bfb87225bc8b97730f23c978fbbc71\",\n",
    "    \"84511c6b-a9a5-44d1-9398-f6df412161d8\": \"68fb90f6350de4b804c1c1dad37fe85e\",\n",
    "    \"c5f06d36-cb31-4e20-92cf-bd8abdb9809a\": \"c5608d220836d96e64609d843f61f30c\",\n",
    "    \"5a3f06c9-8072-4c15-ae0f-161b082602fc\": \"2d5795e57ded035e4358dbf645b410f2\",\n",
    "    \"6c70266f-b43e-4e45-b963-36b3359cd059\": \"3ace07a009ef259c33ef3dacd82a2fcb\",\n",
    "    \"3980d31e-b368-4c94-9938-6eb604dd39c8\": \"6cfda29cce95e99b8557b02a7329a2d7\",\n",
    "    \"a4916c0b-74df-4783-808e-649190de6376\": \"09000c3d82cda08090f3527f6ace6ce4\",\n",
    "    \"bb5a4af8-b279-42e2-a3f7-86e9818e10f8\": \"78771f21f888ff8325a1fa4d20a11898\",\n",
    "    \"cb513a05-ba9b-41a1-bc64-1857a7c6f6e4\": \"7ca0a3144173fa83e8cf10035fd4c1bb\",\n",
    "    \"15b8e1ce-a424-48cf-a4ec-b182ede0ee8c\": \"8eec006866fa99193f94453de6540673\",\n",
    "    \"2104fb5f-c9a6-4913-ab5c-c5d530505d7c\": \"eced42550a1f6fa49707c6e533fe0d44\",\n",
    "}\n",
    "\n",
    "\n",
    "# Replace the key in the baseline records with the correct scenario ID\n",
    "copy_baseline_records = baseline_records.copy()\n",
    "for key, value in copy_baseline_records.items():\n",
    "    if key in mapping:\n",
    "        baseline_records[mapping[key]] = value\n",
    "        del baseline_records[key]\n",
    "        print(f\"Replace {key} with {mapping[key]}\")"
   ]
  },
  {
   "cell_type": "code",
   "execution_count": 11,
   "metadata": {},
   "outputs": [],
   "source": [
    "# Check if all the baseline records are in the scenario2record\n",
    "for key in baseline_records.keys():\n",
    "    if key not in scenario2record:\n",
    "        print(f\"{key} not in scenario2record\")\n",
    "    if key not in scenarios:\n",
    "        print(f\"{key} not in scenarios\")"
   ]
  },
  {
   "cell_type": "code",
   "execution_count": 12,
   "metadata": {},
   "outputs": [],
   "source": [
    "# Check if debates and judgements are consistent\n",
    "for scenario_id in scenario2record:\n",
    "    for record_id in scenario2record[scenario_id]:\n",
    "        if record_id not in debate_records:\n",
    "            print(f\"Missing debate record: {record_id}\")\n",
    "        if record_id not in judge_records:\n",
    "            print(f\"Missing judgement record: {record_id}\")"
   ]
  },
  {
   "cell_type": "code",
   "execution_count": 13,
   "metadata": {},
   "outputs": [],
   "source": [
    "# Check if scenarios are consistent\n",
    "for scenario_id in scenarios:\n",
    "    if scenario_id not in scenario2record:\n",
    "        print(f\"Missing scenario: {scenario_id}\")"
   ]
  },
  {
   "cell_type": "markdown",
   "metadata": {},
   "source": [
    "# Extract judge model answers"
   ]
  },
  {
   "cell_type": "code",
   "execution_count": 349,
   "metadata": {},
   "outputs": [
    {
     "data": {
      "text/html": [
       "<div>\n",
       "<style scoped>\n",
       "    .dataframe tbody tr th:only-of-type {\n",
       "        vertical-align: middle;\n",
       "    }\n",
       "\n",
       "    .dataframe tbody tr th {\n",
       "        vertical-align: top;\n",
       "    }\n",
       "\n",
       "    .dataframe thead th {\n",
       "        text-align: right;\n",
       "    }\n",
       "</style>\n",
       "<table border=\"1\" class=\"dataframe\">\n",
       "  <thead>\n",
       "    <tr style=\"text-align: right;\">\n",
       "      <th></th>\n",
       "      <th>scenario_id</th>\n",
       "      <th>record_id</th>\n",
       "      <th>level</th>\n",
       "      <th>correct_debater_pos</th>\n",
       "      <th>label</th>\n",
       "      <th>baseline</th>\n",
       "      <th>judge</th>\n",
       "      <th>chosen_debater</th>\n",
       "      <th>a_quote_acc</th>\n",
       "      <th>a_quote_num</th>\n",
       "      <th>b_quote_acc</th>\n",
       "      <th>b_quote_num</th>\n",
       "      <th>chosen_debater_quote_acc_diff</th>\n",
       "    </tr>\n",
       "  </thead>\n",
       "  <tbody>\n",
       "    <tr>\n",
       "      <th>94</th>\n",
       "      <td>c95517e7411df76a6c97a5c5307f4f23</td>\n",
       "      <td>3770e84c-e1d2-41ef-ad42-1f29b08980ea</td>\n",
       "      <td>LowConflict</td>\n",
       "      <td>2</td>\n",
       "      <td>disproved</td>\n",
       "      <td>disproved</td>\n",
       "      <td>disproved</td>\n",
       "      <td>2</td>\n",
       "      <td>0.833333</td>\n",
       "      <td>6</td>\n",
       "      <td>1.0</td>\n",
       "      <td>7</td>\n",
       "      <td>0.166667</td>\n",
       "    </tr>\n",
       "    <tr>\n",
       "      <th>257</th>\n",
       "      <td>93b69fd0054fbb398f5f21617b25c2bc</td>\n",
       "      <td>104f5a6e-9897-40f6-a87f-19681649467c</td>\n",
       "      <td>HighConflict</td>\n",
       "      <td>-1</td>\n",
       "      <td>disproved</td>\n",
       "      <td>unknown</td>\n",
       "      <td>proved</td>\n",
       "      <td>2</td>\n",
       "      <td>0.777778</td>\n",
       "      <td>9</td>\n",
       "      <td>1.0</td>\n",
       "      <td>8</td>\n",
       "      <td>0.222222</td>\n",
       "    </tr>\n",
       "  </tbody>\n",
       "</table>\n",
       "</div>"
      ],
      "text/plain": [
       "                          scenario_id                             record_id  \\\n",
       "94   c95517e7411df76a6c97a5c5307f4f23  3770e84c-e1d2-41ef-ad42-1f29b08980ea   \n",
       "257  93b69fd0054fbb398f5f21617b25c2bc  104f5a6e-9897-40f6-a87f-19681649467c   \n",
       "\n",
       "            level  correct_debater_pos      label   baseline      judge  \\\n",
       "94    LowConflict                    2  disproved  disproved  disproved   \n",
       "257  HighConflict                   -1  disproved    unknown     proved   \n",
       "\n",
       "     chosen_debater  a_quote_acc  a_quote_num  b_quote_acc  b_quote_num  \\\n",
       "94                2     0.833333            6          1.0            7   \n",
       "257               2     0.777778            9          1.0            8   \n",
       "\n",
       "     chosen_debater_quote_acc_diff  \n",
       "94                        0.166667  \n",
       "257                       0.222222  "
      ]
     },
     "execution_count": 349,
     "metadata": {},
     "output_type": "execute_result"
    }
   ],
   "source": [
    "from typing import Literal\n",
    "\n",
    "import pandas as pd\n",
    "\n",
    "from src.debate.types import DebateRecord, DebaterNames\n",
    "\n",
    "\n",
    "def get_answer(text: str) -> Literal[\"A\", \"B\", \"C\"]:\n",
    "    \"\"\"Get the answer from the text.\"\"\"\n",
    "    answer = re.findall(r\"Answer: (A|B|C)\", text)\n",
    "    if answer:\n",
    "        return answer[0]\n",
    "    answer = re.findall(r\"Answer: <(A|B|C)>\", text)\n",
    "    if answer:\n",
    "        return answer[0]\n",
    "    return \"invalid\"\n",
    "\n",
    "\n",
    "def answer_to_label(answer: Literal[\"A\", \"B\", \"C\"]) -> str:\n",
    "    \"\"\"Convert the answer to label.\"\"\"\n",
    "    if answer == \"A\":\n",
    "        return \"proved\"\n",
    "    elif answer == \"B\":\n",
    "        return \"disproved\"\n",
    "    elif answer == \"C\":\n",
    "        return \"unknown\"\n",
    "    return \"invalid\"\n",
    "\n",
    "\n",
    "def get_num_correct_quote(text: str) -> int:\n",
    "    \"\"\"Get the number of correct quote from the text.\"\"\"\n",
    "    pattern = re.compile(r\"<v_quote>(.*?)</v_quote>\")\n",
    "    return len(re.findall(pattern, text))\n",
    "\n",
    "\n",
    "def get_num_incorrect_quote(text: str) -> int:\n",
    "    \"\"\"Get the number of incorrect quote from the text.\"\"\"\n",
    "    pattern = re.compile(r\"<u_quote>(.*?)</u_quote>\")\n",
    "    return len(re.findall(pattern, text))\n",
    "\n",
    "\n",
    "answers = []\n",
    "\n",
    "for scenario_id, scenario in scenarios.items():\n",
    "    baseline_judgement = baseline_records[scenario_id][\"judgment\"]\n",
    "    baseline_answer = answer_to_label(get_answer(baseline_judgement))\n",
    "    for record_id in scenario2record[scenario_id]:\n",
    "        debate = DebateRecord(scenario=scenario, **debate_records[record_id])\n",
    "\n",
    "        correct_debater_pos: Literal[1, 2, -1] = -1\n",
    "        if debate.debater_positions[DebaterNames.A.value] == scenario.label:\n",
    "            correct_debater_pos = 1\n",
    "        elif debate.debater_positions[DebaterNames.B.value] == scenario.label:\n",
    "            correct_debater_pos = 2\n",
    "\n",
    "        # Get the number of validated quote from each debater argument\n",
    "        debater_a_args = \"\"\n",
    "        debater_b_args = \"\"\n",
    "        for t in debate.transcript:\n",
    "            if t[\"name\"] == DebaterNames.A.value:\n",
    "                debater_a_args += t[\"validated_response_arguments\"]\n",
    "            elif t[\"name\"] == DebaterNames.B.value:\n",
    "                debater_b_args += t[\"validated_response_arguments\"]\n",
    "\n",
    "        num_correct_quote_a = get_num_correct_quote(debater_a_args)\n",
    "        num_correct_quote_b = get_num_correct_quote(debater_b_args)\n",
    "        num_incorrect_quote_a = get_num_incorrect_quote(debater_a_args)\n",
    "        num_incorrect_quote_b = get_num_incorrect_quote(debater_b_args)\n",
    "        debater_a_quote_acc = num_correct_quote_a / (\n",
    "            num_correct_quote_a + num_incorrect_quote_a\n",
    "        )\n",
    "        debater_b_quote_acc = num_correct_quote_b / (\n",
    "            num_correct_quote_b + num_incorrect_quote_b\n",
    "        )\n",
    "\n",
    "        # Get the judge answer\n",
    "        judge_judgement = judge_records[record_id][\"judgment\"]\n",
    "        judge_chosen_debater = get_answer(judge_judgement)\n",
    "        if judge_chosen_debater == \"invalid\":\n",
    "            print(f\"Invalid answer for record {record_id}\")\n",
    "            print(judge_judgement)\n",
    "            continue\n",
    "        chosen_debater_name = getattr(DebaterNames, judge_chosen_debater)\n",
    "        judge_answer = debate.debater_positions[chosen_debater_name.value]\n",
    "\n",
    "        # Get the accuracy of the chosen debater\n",
    "        chosen_debater_quote_acc = 0\n",
    "        other_debater_quote_acc = 0\n",
    "        if chosen_debater_name == DebaterNames.A:\n",
    "            chosen_debater_quote_acc = debater_a_quote_acc\n",
    "            other_debater_quote_acc = debater_b_quote_acc\n",
    "        elif chosen_debater_name == DebaterNames.B:\n",
    "            chosen_debater_quote_acc = debater_b_quote_acc\n",
    "            other_debater_quote_acc = debater_a_quote_acc\n",
    "        chosen_debater_quote_acc_diff = (\n",
    "            chosen_debater_quote_acc - other_debater_quote_acc\n",
    "        )\n",
    "\n",
    "        answers.append(\n",
    "            {\n",
    "                \"scenario_id\": scenario_id,\n",
    "                \"record_id\": record_id,\n",
    "                \"level\": scenario.level,\n",
    "                \"correct_debater_pos\": correct_debater_pos,\n",
    "                \"label\": scenario.label,\n",
    "                \"baseline\": baseline_answer,\n",
    "                \"judge\": judge_answer,\n",
    "                \"chosen_debater\": 1 if chosen_debater_name == DebaterNames.A else 2,\n",
    "                \"a_quote_acc\": debater_a_quote_acc,\n",
    "                \"a_quote_num\": (num_correct_quote_a + num_incorrect_quote_a),\n",
    "                \"b_quote_acc\": debater_b_quote_acc,\n",
    "                \"b_quote_num\": (num_correct_quote_b + num_incorrect_quote_b),\n",
    "                \"chosen_debater_quote_acc_diff\": chosen_debater_quote_acc_diff,\n",
    "            }\n",
    "        )\n",
    "\n",
    "answers_df = pd.DataFrame.from_dict(answers)\n",
    "answers_df.sample(2)"
   ]
  },
  {
   "cell_type": "code",
   "execution_count": 350,
   "metadata": {},
   "outputs": [
    {
     "data": {
      "text/html": [
       "<div>\n",
       "<style scoped>\n",
       "    .dataframe tbody tr th:only-of-type {\n",
       "        vertical-align: middle;\n",
       "    }\n",
       "\n",
       "    .dataframe tbody tr th {\n",
       "        vertical-align: top;\n",
       "    }\n",
       "\n",
       "    .dataframe thead th {\n",
       "        text-align: right;\n",
       "    }\n",
       "</style>\n",
       "<table border=\"1\" class=\"dataframe\">\n",
       "  <thead>\n",
       "    <tr style=\"text-align: right;\">\n",
       "      <th></th>\n",
       "      <th>scenario_id</th>\n",
       "      <th>record_id</th>\n",
       "      <th>level</th>\n",
       "      <th>correct_debater_pos</th>\n",
       "      <th>label</th>\n",
       "      <th>baseline</th>\n",
       "      <th>judge</th>\n",
       "      <th>chosen_debater</th>\n",
       "      <th>a_quote_acc</th>\n",
       "      <th>a_quote_num</th>\n",
       "      <th>b_quote_acc</th>\n",
       "      <th>b_quote_num</th>\n",
       "      <th>chosen_debater_quote_acc_diff</th>\n",
       "      <th>Baseline Correct</th>\n",
       "      <th>Judge Correct</th>\n",
       "    </tr>\n",
       "  </thead>\n",
       "  <tbody>\n",
       "    <tr>\n",
       "      <th>254</th>\n",
       "      <td>16ac3e4888cba4553fc8aaaf002e1fb0</td>\n",
       "      <td>1fd44971-9147-461b-8174-f8a021edd9dd</td>\n",
       "      <td>HighConflict</td>\n",
       "      <td>-1</td>\n",
       "      <td>disproved</td>\n",
       "      <td>disproved</td>\n",
       "      <td>proved</td>\n",
       "      <td>2</td>\n",
       "      <td>0.333333</td>\n",
       "      <td>9</td>\n",
       "      <td>0.8</td>\n",
       "      <td>10</td>\n",
       "      <td>0.466667</td>\n",
       "      <td>1</td>\n",
       "      <td>0</td>\n",
       "    </tr>\n",
       "    <tr>\n",
       "      <th>44</th>\n",
       "      <td>5a403b90860db9e409dcf80db7d2d3f2</td>\n",
       "      <td>71c0e146-eca2-4218-9538-cb89bf53a66d</td>\n",
       "      <td>LowConflict</td>\n",
       "      <td>-1</td>\n",
       "      <td>proved</td>\n",
       "      <td>proved</td>\n",
       "      <td>unknown</td>\n",
       "      <td>2</td>\n",
       "      <td>0.714286</td>\n",
       "      <td>7</td>\n",
       "      <td>1.0</td>\n",
       "      <td>7</td>\n",
       "      <td>0.285714</td>\n",
       "      <td>1</td>\n",
       "      <td>0</td>\n",
       "    </tr>\n",
       "  </tbody>\n",
       "</table>\n",
       "</div>"
      ],
      "text/plain": [
       "                          scenario_id                             record_id  \\\n",
       "254  16ac3e4888cba4553fc8aaaf002e1fb0  1fd44971-9147-461b-8174-f8a021edd9dd   \n",
       "44   5a403b90860db9e409dcf80db7d2d3f2  71c0e146-eca2-4218-9538-cb89bf53a66d   \n",
       "\n",
       "            level  correct_debater_pos      label   baseline    judge  \\\n",
       "254  HighConflict                   -1  disproved  disproved   proved   \n",
       "44    LowConflict                   -1     proved     proved  unknown   \n",
       "\n",
       "     chosen_debater  a_quote_acc  a_quote_num  b_quote_acc  b_quote_num  \\\n",
       "254               2     0.333333            9          0.8           10   \n",
       "44                2     0.714286            7          1.0            7   \n",
       "\n",
       "     chosen_debater_quote_acc_diff  Baseline Correct  Judge Correct  \n",
       "254                       0.466667                 1              0  \n",
       "44                        0.285714                 1              0  "
      ]
     },
     "execution_count": 350,
     "metadata": {},
     "output_type": "execute_result"
    }
   ],
   "source": [
    "import numpy as np\n",
    "\n",
    "answers_df[\"Baseline Correct\"] = np.where(\n",
    "    answers_df[\"label\"] == answers_df[\"baseline\"], 1, 0\n",
    ")\n",
    "answers_df[\"Judge Correct\"] = np.where(answers_df[\"label\"] == answers_df[\"judge\"], 1, 0)\n",
    "answers_df.sample(2)"
   ]
  },
  {
   "cell_type": "code",
   "execution_count": 351,
   "metadata": {},
   "outputs": [],
   "source": [
    "answers_df.to_csv(result_path / \"results.csv\", index=False)"
   ]
  },
  {
   "cell_type": "markdown",
   "metadata": {},
   "source": [
    "# Analysis"
   ]
  },
  {
   "cell_type": "code",
   "execution_count": 352,
   "metadata": {},
   "outputs": [],
   "source": [
    "answers_df = pd.read_csv(result_path / \"results.csv\")"
   ]
  },
  {
   "cell_type": "code",
   "execution_count": 353,
   "metadata": {},
   "outputs": [],
   "source": [
    "import seaborn as sns\n",
    "from matplotlib import pyplot as plt\n",
    "\n",
    "sns.set_theme(style=\"whitegrid\", palette=\"colorblind\")"
   ]
  },
  {
   "cell_type": "markdown",
   "metadata": {},
   "source": [
    "## Fundamental Effectiveness"
   ]
  },
  {
   "cell_type": "markdown",
   "metadata": {},
   "source": [
    "### Does the debate process improve accuracy compared to baseline direct answers?"
   ]
  },
  {
   "cell_type": "code",
   "execution_count": 354,
   "metadata": {},
   "outputs": [
    {
     "name": "stdout",
     "output_type": "stream",
     "text": [
      "Baseline Accuracy: 45.83%\n",
      "Judge Accuracy: 39.44%\n",
      "Baseline is better\n"
     ]
    }
   ],
   "source": [
    "from scipy import stats\n",
    "\n",
    "# Calculate accuracy\n",
    "\n",
    "baseline_correct = answers_df[\"Baseline Correct\"].sum()\n",
    "judge_correct = answers_df[\"Judge Correct\"].sum()\n",
    "total = len(answers_df)\n",
    "\n",
    "baseline_accuracy = baseline_correct / total\n",
    "judge_accuracy = judge_correct / total\n",
    "\n",
    "print(f\"Baseline Accuracy: {baseline_accuracy:.2%}\")\n",
    "print(f\"Judge Accuracy: {judge_accuracy:.2%}\")\n",
    "\n",
    "if baseline_accuracy > judge_accuracy:\n",
    "    print(\"Baseline is better\")\n",
    "else:\n",
    "    print(\"Judge is better\")\n"
   ]
  },
  {
   "cell_type": "code",
   "execution_count": 355,
   "metadata": {},
   "outputs": [
    {
     "name": "stdout",
     "output_type": "stream",
     "text": [
      "McNemar's Test Results:\n",
      "Statistic: 66.000\n",
      "P-value: 0.077\n",
      "Odds ratio: 1.348\n",
      "Statistic: 66.000\n",
      "P-value: 0.077\n",
      "Odds ratio: 1.348\n",
      "Fail to reject null hypothesis: Baseline and judge have similar effectiveness\n"
     ]
    }
   ],
   "source": [
    "import pandas as pd\n",
    "from statsmodels.stats.contingency_tables import mcnemar\n",
    "\n",
    "\n",
    "def test_debate_effectiveness(answers_df):\n",
    "    # Create contingency table for McNemar's test\n",
    "    # Both correct (1,1), baseline wrong & judge right (0,1),\n",
    "    # baseline right & judge wrong (1,0), both wrong (0,0)\n",
    "    contingency = pd.crosstab(\n",
    "        answers_df[\"baseline\"] == answers_df[\"label\"],\n",
    "        answers_df[\"judge\"] == answers_df[\"label\"],\n",
    "    )\n",
    "    r = mcnemar(contingency)\n",
    "    odds_ratio = contingency.iloc[1, 0] / contingency.iloc[0, 1]\n",
    "\n",
    "    print(\"McNemar's Test Results:\")\n",
    "    print(f\"Statistic: {r.statistic:.3f}\")\n",
    "    print(f\"P-value: {r.pvalue:.3f}\")\n",
    "    print(f\"Odds ratio: {odds_ratio:.3f}\")\n",
    "\n",
    "    return r.statistic, r.pvalue, odds_ratio\n",
    "\n",
    "\n",
    "stat, p_val, ratio = test_debate_effectiveness(answers_df)\n",
    "print(f\"Statistic: {stat:.3f}\")\n",
    "print(f\"P-value: {p_val:.3f}\")\n",
    "print(f\"Odds ratio: {ratio:.3f}\")\n",
    "if p_val < 0.05:\n",
    "    print(\"Reject null hypothesis: Baseline and judge have different effectiveness\")\n",
    "else:\n",
    "    print(\n",
    "        \"Fail to reject null hypothesis: Baseline and judge have similar effectiveness\"\n",
    "    )\n"
   ]
  },
  {
   "cell_type": "markdown",
   "metadata": {},
   "source": [
    "### How does performance vary across different levels of information conflict?"
   ]
  },
  {
   "cell_type": "code",
   "execution_count": 356,
   "metadata": {},
   "outputs": [
    {
     "name": "stdout",
     "output_type": "stream",
     "text": [
      "\n",
      "Accuracy by level:\n",
      "       level  Count  Baseline    Judge  Accuracy Gain\n",
      "HighConflict    180  0.383333 0.383333       0.000000\n",
      " LowConflict    180  0.533333 0.405556      -0.127778\n"
     ]
    }
   ],
   "source": [
    "# Break down by level\n",
    "level_results = answers_df.groupby(\"level\", as_index=False).agg(\n",
    "    Count=(\"level\", \"count\"),\n",
    "    Baseline=(\"Baseline Correct\", \"mean\"),\n",
    "    Judge=(\"Judge Correct\", \"mean\"),\n",
    ")\n",
    "level_results[\"Accuracy Gain\"] = level_results[\"Judge\"] - level_results[\"Baseline\"]\n",
    "\n",
    "print(\"\\nAccuracy by level:\")\n",
    "print(level_results.to_string(index=False))"
   ]
  },
  {
   "cell_type": "code",
   "execution_count": null,
   "metadata": {},
   "outputs": [
    {
     "name": "stdout",
     "output_type": "stream",
     "text": [
      "\n",
      "Accuracy by level (excluding 'No Correct Debater' setup):\n",
      "       level  Count  Baseline    Judge  Accuracy Gain\n",
      "HighConflict    120  0.383333 0.575000       0.191667\n",
      " LowConflict    120  0.533333 0.608333       0.075000\n"
     ]
    }
   ],
   "source": [
    "# Remove Position -1\n",
    "correct_exist_df = answers_df[answers_df[\"correct_debater_pos\"] != -1]\n",
    "nneg_level_results = correct_exist_df.groupby(\"level\", as_index=False).agg(\n",
    "    Count=(\"level\", \"count\"),\n",
    "    Baseline=(\"Baseline Correct\", \"mean\"),\n",
    "    Judge=(\"Judge Correct\", \"mean\"),\n",
    ")\n",
    "nneg_level_results[\"Accuracy Gain\"] = (\n",
    "    nneg_level_results[\"Judge\"] - nneg_level_results[\"Baseline\"]\n",
    ")\n",
    "print(\"\\nAccuracy by level (excluding 'No Correct Debater' setup):\")\n",
    "print(nneg_level_results.to_string(index=False))\n"
   ]
  },
  {
   "cell_type": "code",
   "execution_count": 367,
   "metadata": {},
   "outputs": [
    {
     "data": {
      "image/png": "[encoded data removed]",
      "text/plain": [
       "<Figure size 640x480 with 1 Axes>"
      ]
     },
     "metadata": {},
     "output_type": "display_data"
    }
   ],
   "source": [
    "# Join the two dataframes then plot\n",
    "answers_df_ = answers_df.copy()\n",
    "answers_df_[\"Setup Coverage\"] = \"All\"\n",
    "correct_exist_df_ = correct_exist_df.copy()\n",
    "correct_exist_df_[\"Setup Coverage\"] = \"Excluding 'No Correct Debater'\"\n",
    "merged_answers_df = pd.concat([answers_df_, correct_exist_df_])\n",
    "# Plot the baseline and judge accuracy by level while comparing between protocol (hue)\n",
    "merged_results = merged_answers_df.groupby(\n",
    "    [\"Setup Coverage\", \"level\"], as_index=False\n",
    ").agg(\n",
    "    Baseline=(\"Baseline Correct\", \"mean\"),\n",
    "    Judge=(\"Judge Correct\", \"mean\"),\n",
    ")\n",
    "merged_results[\"Accuracy Gain\"] = merged_results[\"Judge\"] - merged_results[\"Baseline\"]\n",
    "\n",
    "# Plot the accuracy gain\n",
    "merged_results.pivot(\n",
    "    index=\"Setup Coverage\", columns=\"level\", values=\"Accuracy Gain\"\n",
    ").plot(\n",
    "    kind=\"bar\",\n",
    "    # figsize=(10, 4),\n",
    "    title=\"Claude 3.5 Haiku Accuracy Gain through Debate\",\n",
    "    # ylim=(-0.5, 0.5),\n",
    "    ylabel=\"Accuracy Gain\",\n",
    "    rot=0,\n",
    ")\n",
    "plt.axhline(0, color=\"black\", linewidth=0.8)\n",
    "plt.show()\n"
   ]
  },
  {
   "cell_type": "markdown",
   "metadata": {},
   "source": [
    "Looking at the full setup (including \"No Correct Debater\"):\n",
    "- High Conflict: NO improvement from baseline (0.383 → 0.383, gain = 0)\n",
    "- Low Conflict: Actually WORSE than baseline (0.533 → 0.406, loss of 0.128)\n",
    "\n",
    "But when we exclude \"No Correct Debater\" cases:\n",
    "- High Conflict: Substantial IMPROVEMENT (0.383 → 0.575, gain of 0.192)\n",
    "- Low Conflict: Modest improvement (0.533 → 0.608, gain of 0.075)\n",
    "\n",
    "This is quite revealing! Including the \"No Correct Debater\" setup is actually masking the real effectiveness of the debate process. When we focus only on cases where at least one debater has the correct answer, the debate system shows clear improvements over baseline, especially in high conflict scenarios.\n",
    "\n",
    "Particularly striking is the high conflict case - the debate process appears to be most valuable precisely when there are conflicting rules or information, showing a substantial 19.2 percentage point improvement. This suggests the debate format is doing what we want it to do: helping clarify complex, conflicting situations.\n",
    "\n",
    "For the rest of the analysis, we should definitely exclude the \"No Correct Debater\" setup. Including it:\n",
    "1. Masks the true effectiveness of the debate process\n",
    "2. Artificially deflates performance metrics\n",
    "3. Doesn't represent the intended use case (in real applications, we'd want at least one debater to have access to the truth)\n",
    "\n",
    "While the \"No Correct Debater\" setup was an interesting experimental condition, it's served its purpose in showing that the judge consistently fails when neither debater has the truth (as we'd hope). For understanding and improving the debate system's effectiveness, we should focus on the cases where truth is available to at least one debater."
   ]
  },
  {
   "cell_type": "code",
   "execution_count": 359,
   "metadata": {},
   "outputs": [
    {
     "name": "stdout",
     "output_type": "stream",
     "text": [
      "McNemar's Test Results:\n",
      "Statistic: 34.000\n",
      "P-value: 0.002\n",
      "Odds ratio: 0.515\n",
      "Statistic: 34.000\n",
      "P-value: 0.002\n",
      "Odds ratio: 0.515\n",
      "Reject null hypothesis: Baseline and judge have different effectiveness\n"
     ]
    }
   ],
   "source": [
    "# Let's do the statistical test again\n",
    "stat, p_val, ratio = test_debate_effectiveness(correct_exist_df)\n",
    "print(f\"Statistic: {stat:.3f}\")\n",
    "print(f\"P-value: {p_val:.3f}\")\n",
    "print(f\"Odds ratio: {ratio:.3f}\")\n",
    "if p_val < 0.05:\n",
    "    print(\"Reject null hypothesis: Baseline and judge have different effectiveness\")\n",
    "else:\n",
    "    print(\n",
    "        \"Fail to reject null hypothesis: Baseline and judge have similar effectiveness\"\n",
    "    )\n"
   ]
  },
  {
   "cell_type": "markdown",
   "metadata": {},
   "source": [
    "## Structural Biases"
   ]
  },
  {
   "cell_type": "markdown",
   "metadata": {},
   "source": [
    "### Is there a systematic advantage to arguing first or second in the debate?"
   ]
  },
  {
   "cell_type": "code",
   "execution_count": 368,
   "metadata": {},
   "outputs": [
    {
     "data": {
      "text/plain": [
       "<Axes: title={'center': 'Chosen Debater by Level'}, xlabel='Chosen Debater', ylabel='Count'>"
      ]
     },
     "execution_count": 368,
     "metadata": {},
     "output_type": "execute_result"
    },
    {
     "data": {
      "image/png": "[encoded data removed]",
      "text/plain": [
       "<Figure size 640x480 with 1 Axes>"
      ]
     },
     "metadata": {},
     "output_type": "display_data"
    }
   ],
   "source": [
    "chosen_debater_counts = (\n",
    "    answers_df.groupby([\"chosen_debater\", \"level\", \"\"]).size().unstack()\n",
    ")\n",
    "chosen_debater_counts.plot(\n",
    "    kind=\"bar\",\n",
    "    title=\"Chosen Debater by Level\",\n",
    "    rot=0,\n",
    "    ylabel=\"Count\",\n",
    "    xlabel=\"Chosen Debater\",\n",
    ")"
   ]
  },
  {
   "cell_type": "code",
   "execution_count": null,
   "metadata": {},
   "outputs": [
    {
     "name": "stdout",
     "output_type": "stream",
     "text": [
      "\n",
      "Overall position distribution:\n",
      " correct_debater_pos Judge Correct  Count  Percentage\n",
      "                   1     Incorrect     65    0.270833\n",
      "                   1       Correct     55    0.229167\n",
      "                   2     Incorrect     33    0.137500\n",
      "                   2       Correct     87    0.362500\n"
     ]
    },
    {
     "data": {
      "image/png": "[encoded data removed]",
      "text/plain": [
       "<Figure size 640x480 with 1 Axes>"
      ]
     },
     "metadata": {},
     "output_type": "display_data"
    }
   ],
   "source": [
    "# Calculate overall position bias\n",
    "position_counts = correct_exist_df.groupby(\n",
    "    [\"correct_debater_pos\", \"Judge Correct\"], as_index=False\n",
    ").agg(Count=(\"correct_debater_pos\", \"count\"))\n",
    "position_counts[\"Percentage\"] = position_counts[\"Count\"] / len(correct_exist_df)\n",
    "position_counts[\"Judge Correct\"] = position_counts[\"Judge Correct\"].map(\n",
    "    {0: \"Incorrect\", 1: \"Correct\"}\n",
    ")\n",
    "\n",
    "print(\"\\nOverall position distribution:\")\n",
    "print(position_counts.to_string(index=False))\n",
    "\n",
    "position_counts.pivot(\n",
    "    index=\"Judge Correct\", columns=\"correct_debater_pos\", values=\"Count\"\n",
    ").plot(\n",
    "    kind=\"bar\",\n",
    "    # figsize=(10, 6),\n",
    "    title=\"Distribution of Correct Debater Position\",\n",
    "    rot=0,\n",
    "    ylabel=\"Count\",\n",
    "    xlabel=\"Judge Answer\",\n",
    ")\n",
    "plt.legend(title=\"Debater Position\")\n",
    "plt.show()"
   ]
  },
  {
   "cell_type": "code",
   "execution_count": 325,
   "metadata": {},
   "outputs": [
    {
     "name": "stdout",
     "output_type": "stream",
     "text": [
      "\n",
      "Accuracy by correct debater position:\n",
      " correct_debater_pos  Count  Baseline    Judge  Accuracy Gain\n",
      "                   1    120  0.458333 0.458333       0.000000\n",
      "                   2    120  0.458333 0.725000       0.266667\n"
     ]
    },
    {
     "data": {
      "image/png": "[encoded data removed]",
      "text/plain": [
       "<Figure size 1000x600 with 1 Axes>"
      ]
     },
     "metadata": {},
     "output_type": "display_data"
    },
    {
     "data": {
      "text/plain": [
       "<Axes: title={'center': 'Claude 3.5 Haiku Accuracy Gain by Correct Debater Position'}, xlabel='level,correct_debater_pos'>"
      ]
     },
     "execution_count": 325,
     "metadata": {},
     "output_type": "execute_result"
    },
    {
     "data": {
      "image/png": "[encoded data removed]",
      "text/plain": [
       "<Figure size 1000x600 with 1 Axes>"
      ]
     },
     "metadata": {},
     "output_type": "display_data"
    }
   ],
   "source": [
    "# Break down by correct debater position and accuracy gain based on the baseline\n",
    "correct_debater_results = correct_exist_df.groupby(\n",
    "    [\"correct_debater_pos\"], as_index=False\n",
    ").agg(\n",
    "    Count=(\"correct_debater_pos\", \"count\"),\n",
    "    Baseline=(\"Baseline Correct\", \"mean\"),\n",
    "    Judge=(\"Judge Correct\", \"mean\"),\n",
    ")\n",
    "correct_debater_results[\"Accuracy Gain\"] = (\n",
    "    correct_debater_results[\"Judge\"] - correct_debater_results[\"Baseline\"]\n",
    ")\n",
    "\n",
    "print(\"\\nAccuracy by correct debater position:\")\n",
    "print(correct_debater_results.to_string(index=False))\n",
    "\n",
    "correct_debater_results.plot(\n",
    "    x=\"correct_debater_pos\",\n",
    "    y=[\"Baseline\", \"Judge\"],\n",
    "    kind=\"bar\",\n",
    "    figsize=(10, 6),\n",
    "    title=\"Claude 3.5 Haiku Accuracy by Correct Debater Position\",\n",
    "    rot=0,\n",
    ")\n",
    "plt.ylim(0, 1)\n",
    "plt.show()\n",
    "\n",
    "# Plot again but comparing between level\n",
    "correct_debater_results_ = correct_exist_df.groupby(\n",
    "    [\"correct_debater_pos\", \"level\"], as_index=False\n",
    ").agg(\n",
    "    Count=(\"correct_debater_pos\", \"count\"),\n",
    "    Baseline=(\"Baseline Correct\", \"mean\"),\n",
    "    Judge=(\"Judge Correct\", \"mean\"),\n",
    ")\n",
    "correct_debater_results_[\"Accuracy Gain\"] = (\n",
    "    correct_debater_results_[\"Judge\"] - correct_debater_results_[\"Baseline\"]\n",
    ")\n",
    "correct_debater_results_.set_index(\n",
    "    [\n",
    "        \"level\",\n",
    "        \"correct_debater_pos\",\n",
    "    ]\n",
    ").plot(\n",
    "    # x=\"correct_debater_pos\",\n",
    "    y=\"Accuracy Gain\",\n",
    "    kind=\"bar\",\n",
    "    figsize=(10, 6),\n",
    "    title=\"Claude 3.5 Haiku Accuracy Gain by Correct Debater Position\",\n",
    "    rot=0,\n",
    ")"
   ]
  },
  {
   "cell_type": "markdown",
   "metadata": {},
   "source": [
    "#### Testing for position bias"
   ]
  },
  {
   "cell_type": "code",
   "execution_count": 159,
   "metadata": {},
   "outputs": [
    {
     "name": "stdout",
     "output_type": "stream",
     "text": [
      "\n",
      "Significance level: 0.05\n",
      "\n",
      "===== LowConflict =====\n",
      "Contingency table:\n",
      "col_0                False  True \n",
      "correct_debater_pos              \n",
      "-1                      60      0\n",
      " 1                      33     27\n",
      " 2                      14     46\n",
      "Chi-square statistic: 73.88\n",
      "p-value: 9.058776439390333e-17\n",
      "Reject null hypothesis: debater position is associated with judge accuracy\n",
      "Effect size: 0.64 (Large)\n",
      "\n",
      "===== HighConflict =====\n",
      "Contingency table:\n",
      "col_0                False  True \n",
      "correct_debater_pos              \n",
      "-1                      60      0\n",
      " 1                      32     28\n",
      " 2                      19     41\n",
      "Chi-square statistic: 61.90\n",
      "p-value: 3.612391127660759e-14\n",
      "Reject null hypothesis: debater position is associated with judge accuracy\n",
      "Effect size: 0.59 (Large)\n"
     ]
    }
   ],
   "source": [
    "alpha = 0.05\n",
    "print(f\"\\nSignificance level: {alpha}\")\n",
    "\n",
    "for level in answers_df[\"level\"].unique():\n",
    "    level_data = answers_df[answers_df[\"level\"] == level]\n",
    "\n",
    "    # Create contingency table for debater position vs judge accuracy\n",
    "    contingency = pd.crosstab(\n",
    "        level_data[\"correct_debater_pos\"], level_data[\"judge\"] == level_data[\"label\"]\n",
    "    )\n",
    "\n",
    "    # Perform chi-square test\n",
    "    chi2, p_value = stats.chi2_contingency(contingency)[:2]\n",
    "\n",
    "    print(f\"\\n===== {level} =====\")\n",
    "    print(\"Contingency table:\")\n",
    "    print(contingency)\n",
    "    print(f\"Chi-square statistic: {chi2:.2f}\")\n",
    "    print(f\"p-value: {p_value}\")\n",
    "    if p_value < alpha:\n",
    "        print(\n",
    "            \"Reject null hypothesis: debater position is associated with judge accuracy\"\n",
    "        )\n",
    "    else:\n",
    "        print(\n",
    "            \"Fail to reject null hypothesis: debater position is not associated with judge accuracy\"\n",
    "        )\n",
    "\n",
    "    # Calculate the effect size\n",
    "    n = contingency.sum().sum()\n",
    "    phi = np.sqrt(chi2 / n)\n",
    "    print(\n",
    "        f\"Effect size: {phi:.2f} ({'Small' if phi < 0.1 else 'Medium' if phi < 0.3 else 'Large'})\"\n",
    "    )"
   ]
  },
  {
   "cell_type": "markdown",
   "metadata": {},
   "source": [
    "### Do certain types of claims (proved/disproved/unknown) have systematically different success rates?"
   ]
  },
  {
   "cell_type": "code",
   "execution_count": 160,
   "metadata": {},
   "outputs": [
    {
     "name": "stdout",
     "output_type": "stream",
     "text": [
      "\n",
      "Accuracy by level and label:\n",
      "       level     label  Count  Baseline    Judge  Accuracy Gain\n",
      "HighConflict disproved     60      0.20 0.466667       0.266667\n",
      "HighConflict    proved     60      0.35 0.266667      -0.083333\n",
      "HighConflict   unknown     60      0.60 0.416667      -0.183333\n",
      " LowConflict disproved     60      0.25 0.466667       0.216667\n",
      " LowConflict    proved     60      0.70 0.333333      -0.366667\n",
      " LowConflict   unknown     60      0.65 0.416667      -0.233333\n"
     ]
    },
    {
     "data": {
      "image/png": "[encoded data removed]",
      "text/plain": [
       "<Figure size 1000x600 with 1 Axes>"
      ]
     },
     "metadata": {},
     "output_type": "display_data"
    }
   ],
   "source": [
    "# Break down by level and label\n",
    "level_label_results = answers_df.groupby([\"level\", \"label\"], as_index=False).agg(\n",
    "    Count=(\"level\", \"count\"),\n",
    "    Baseline=(\"baseline\", lambda x: (x == answers_df.loc[x.index, \"label\"]).mean()),\n",
    "    Judge=(\"judge\", lambda x: (x == answers_df.loc[x.index, \"label\"]).mean()),\n",
    ")\n",
    "level_label_results[\"Accuracy Gain\"] = (\n",
    "    level_label_results[\"Judge\"] - level_label_results[\"Baseline\"]\n",
    ")\n",
    "\n",
    "print(\"\\nAccuracy by level and label:\")\n",
    "print(level_label_results.to_string(index=False))\n",
    "\n",
    "level_label_results.pivot(index=\"level\", columns=\"label\", values=\"Accuracy Gain\").plot(\n",
    "    kind=\"bar\",\n",
    "    figsize=(10, 6),\n",
    "    title=\"Claude 3.5 Haiku Accuracy Gain by BoardgameQA Level and Label\",\n",
    "    ylim=(-0.5, 0.5),\n",
    ")\n",
    "# Add a horizontal line at 0\n",
    "plt.axhline(0, color=\"black\", linewidth=0.8)\n",
    "plt.show()"
   ]
  },
  {
   "cell_type": "markdown",
   "metadata": {},
   "source": [
    "#### Testing for label bias"
   ]
  },
  {
   "cell_type": "code",
   "execution_count": 162,
   "metadata": {},
   "outputs": [],
   "source": [
    "# # Do certain types of claims (proved/disproved/unknown) have systematically different success rates?\n",
    "# # Perform statistical test to compare the accuracy of different labels\n",
    "# alpha = 0.05\n",
    "# print(f\"\\nSignificance level: {alpha}\")\n",
    "\n",
    "# for level in answers_df[\"level\"].unique():\n"
   ]
  },
  {
   "cell_type": "markdown",
   "metadata": {},
   "source": [
    "### Does the conflict level of scenarios affect judge accuracy independently of other factors?"
   ]
  },
  {
   "cell_type": "code",
   "execution_count": 163,
   "metadata": {},
   "outputs": [],
   "source": [
    "# Does the conflict level of scenarios affect judge accuracy independently of other factors?\n"
   ]
  },
  {
   "cell_type": "markdown",
   "metadata": {},
   "source": [
    "## Evidence Usage"
   ]
  },
  {
   "cell_type": "markdown",
   "metadata": {},
   "source": [
    "### Does using more verified quotes lead to higher success rates in debates?\n",
    "\n",
    "- Is the judge better at selecting debaters who use evidence more accurately?\n",
    "- Does the relationship between quote accuracy and judge performance vary by conflict level?"
   ]
  },
  {
   "cell_type": "code",
   "execution_count": null,
   "metadata": {},
   "outputs": [
    {
     "name": "stdout",
     "output_type": "stream",
     "text": [
      "All: Judge accuracy when its selected debater give:\n",
      " - more correct quotes than other: 37.80%\n",
      " - equal correct quotes as other : 40.56%\n",
      " - otherwise                     : 39.62%\n",
      "Judge is not more likely to be correct when its selected debater gives more correct quotes\n",
      "t-statistic: 0.582\n",
      "p-value: 0.561\n",
      "Fail to reject null hypothesis: accuracy difference is not significant\n",
      "\n",
      "LowConflict: Judge accuracy when its selected debater gave:\n",
      " - more correct quotes than other: 44.44%\n",
      " - equal correct quotes as other : 38.83%\n",
      " - otherwise                     : 39.13%\n",
      "t-statistic: 1.811\n",
      "p-value: 0.072\n",
      "Fail to reject null hypothesis: accuracy difference is not significant\n",
      "\n",
      "HighConflict: Judge accuracy when its selected debater gave:\n",
      " - more correct quotes than other: 32.88%\n",
      " - equal correct quotes as other : 42.86%\n",
      " - otherwise                     : 40.00%\n",
      "t-statistic: -0.860\n",
      "p-value: 0.391\n",
      "Fail to reject null hypothesis: accuracy difference is not significant\n"
     ]
    },
    {
     "data": {
      "image/png": "[encoded data removed]",
      "text/plain": [
       "<Figure size 712.222x500 with 2 Axes>"
      ]
     },
     "metadata": {},
     "output_type": "display_data"
    }
   ],
   "source": [
    "from scipy import stats\n",
    "\n",
    "# Calculate average accuracy for positive and negative chosen_debater_quote_acc_diff\n",
    "pos_acc = (\n",
    "    answers_df[answers_df[\"chosen_debater_quote_acc_diff\"] > 0][\"judge\"]\n",
    "    == answers_df[answers_df[\"chosen_debater_quote_acc_diff\"] > 0][\"label\"]\n",
    ")\n",
    "eq_acc = (\n",
    "    answers_df[answers_df[\"chosen_debater_quote_acc_diff\"] == 0][\"judge\"]\n",
    "    == answers_df[answers_df[\"chosen_debater_quote_acc_diff\"] == 0][\"label\"]\n",
    ")\n",
    "neg_acc = (\n",
    "    answers_df[answers_df[\"chosen_debater_quote_acc_diff\"] < 0][\"judge\"]\n",
    "    == answers_df[answers_df[\"chosen_debater_quote_acc_diff\"] < 0][\"label\"]\n",
    ")\n",
    "\n",
    "print(\"All: Judge accuracy when its selected debater give:\")\n",
    "print(f\" - more correct quotes than other: {pos_acc.mean():.2%}\")\n",
    "print(f\" - equal correct quotes as other : {eq_acc.mean():.2%}\")\n",
    "print(f\" - otherwise                     : {neg_acc.mean():.2%}\")\n",
    "\n",
    "if pos_acc.mean() > neg_acc.mean():\n",
    "    print(\n",
    "        \"Judge is more likely to be correct when its selected debater gives more correct quotes\"\n",
    "    )\n",
    "else:\n",
    "    print(\n",
    "        \"Judge is not more likely to be correct when its selected debater gives more correct quotes\"\n",
    "    )\n",
    "\n",
    "# Perform t-test between chosen_debater_quote_acc_diff for correct vs incorrect judgements\n",
    "correct_diffs = answers_df[answers_df[\"judge\"] == answers_df[\"label\"]][\n",
    "    \"chosen_debater_quote_acc_diff\"\n",
    "]\n",
    "incorrect_diffs = answers_df[answers_df[\"judge\"] != answers_df[\"label\"]][\n",
    "    \"chosen_debater_quote_acc_diff\"\n",
    "]\n",
    "t_stat, p_value = stats.ttest_ind(correct_diffs, incorrect_diffs)\n",
    "\n",
    "print(f\"t-statistic: {t_stat:.3f}\")\n",
    "print(f\"p-value: {p_value:.3f}\")\n",
    "if p_value < alpha:\n",
    "    print(\"Reject null hypothesis: accuracy difference is significant\")\n",
    "else:\n",
    "    print(\"Fail to reject null hypothesis: accuracy difference is not significant\")\n",
    "\n",
    "# Calculate and print statistics by level\n",
    "for level in answers_df[\"level\"].unique():\n",
    "    level_data = answers_df[answers_df[\"level\"] == level]\n",
    "    pos_acc = (\n",
    "        level_data[level_data[\"chosen_debater_quote_acc_diff\"] > 0][\"judge\"]\n",
    "        == level_data[level_data[\"chosen_debater_quote_acc_diff\"] > 0][\"label\"]\n",
    "    )\n",
    "    eq_acc = (\n",
    "        level_data[level_data[\"chosen_debater_quote_acc_diff\"] == 0][\"judge\"]\n",
    "        == level_data[level_data[\"chosen_debater_quote_acc_diff\"] == 0][\"label\"]\n",
    "    )\n",
    "    neg_acc = (\n",
    "        level_data[level_data[\"chosen_debater_quote_acc_diff\"] < 0][\"judge\"]\n",
    "        == level_data[level_data[\"chosen_debater_quote_acc_diff\"] < 0][\"label\"]\n",
    "    )\n",
    "\n",
    "    print(f\"\\n{level}: Judge accuracy when its selected debater gave:\")\n",
    "    print(f\" - more correct quotes than other: {pos_acc.mean():.2%}\")\n",
    "    print(f\" - equal correct quotes as other : {eq_acc.mean():.2%}\")\n",
    "    print(f\" - otherwise                     : {neg_acc.mean():.2%}\")\n",
    "\n",
    "    # Perform t-test between chosen_debater_quote_acc_diff for correct vs incorrect judgements\n",
    "    correct_diffs = level_data[level_data[\"judge\"] == level_data[\"label\"]][\n",
    "        \"chosen_debater_quote_acc_diff\"\n",
    "    ]\n",
    "    incorrect_diffs = level_data[level_data[\"judge\"] != level_data[\"label\"]][\n",
    "        \"chosen_debater_quote_acc_diff\"\n",
    "    ]\n",
    "    t_stat, p_value = stats.ttest_ind(correct_diffs, incorrect_diffs)\n",
    "\n",
    "    print(f\"t-statistic: {t_stat:.3f}\")\n",
    "    print(f\"p-value: {p_value:.3f}\")\n",
    "    if p_value < alpha:\n",
    "        print(\"Reject null hypothesis: accuracy difference is significant\")\n",
    "    else:\n",
    "        print(\"Fail to reject null hypothesis: accuracy difference is not significant\")\n",
    "\n",
    "# Boxplots of chosen_debater_quote_acc_diff by label, faceted by level\n",
    "g = sns.catplot(\n",
    "    x=\"label\",\n",
    "    y=\"chosen_debater_quote_acc_diff\",\n",
    "    col=\"level\",\n",
    "    data=answers_df,\n",
    "    kind=\"box\",\n",
    "    aspect=0.7,\n",
    ")\n",
    "g.set_axis_labels(\"Label\", \"Chosen Debater Quote Accuracy Difference\")\n",
    "g.set_titles(\"{col_name}\")\n",
    "plt.show()"
   ]
  },
  {
   "cell_type": "markdown",
   "metadata": {},
   "source": [
    "### Is the judge better at selecting debaters who use evidence more accurately?"
   ]
  },
  {
   "cell_type": "code",
   "execution_count": null,
   "metadata": {},
   "outputs": [],
   "source": []
  },
  {
   "cell_type": "code",
   "execution_count": 18,
   "metadata": {},
   "outputs": [
    {
     "name": "stdout",
     "output_type": "stream",
     "text": [
      "\n",
      "Testing for scenario level bias:\n",
      "Contingency table:\n",
      "col_0         False  True \n",
      "level                     \n",
      "HighConflict    111     69\n",
      "LowConflict     107     73\n",
      "Chi-square statistic: 0.10\n",
      "p-value: 0.7463\n"
     ]
    }
   ],
   "source": [
    "# Statistical test for scenario level bias\n",
    "print(\"\\nTesting for scenario level bias:\")\n",
    "contingency = pd.crosstab(\n",
    "    answers_df[\"level\"], answers_df[\"judge\"] == answers_df[\"label\"]\n",
    ")\n",
    "# Perform chi-square test\n",
    "chi2, p_value = stats.chi2_contingency(contingency)[:2]\n",
    "print(\"Contingency table:\")\n",
    "print(contingency)\n",
    "print(f\"Chi-square statistic: {chi2:.2f}\")\n",
    "print(f\"p-value: {p_value:.4f}\")"
   ]
  },
  {
   "cell_type": "markdown",
   "metadata": {},
   "source": [
    "# Save cleaned version"
   ]
  },
  {
   "cell_type": "code",
   "execution_count": 20,
   "metadata": {},
   "outputs": [],
   "source": [
    "# Save the results\n",
    "answers_df.to_csv(result_path / \"results.csv\", index=False)"
   ]
  },
  {
   "cell_type": "code",
   "execution_count": null,
   "metadata": {},
   "outputs": [],
   "source": []
  },
  {
   "cell_type": "code",
   "execution_count": null,
   "metadata": {},
   "outputs": [],
   "source": []
  }
 ],
 "metadata": {
  "kernelspec": {
   "display_name": "debate",
   "language": "python",
   "name": "python3"
  },
  "language_info": {
   "codemirror_mode": {
    "name": "ipython",
    "version": 3
   },
   "file_extension": ".py",
   "mimetype": "text/x-python",
   "name": "python",
   "nbconvert_exporter": "python",
   "pygments_lexer": "ipython3",
   "version": "3.11.11"
  }
 },
 "nbformat": 4,
 "nbformat_minor": 2
}
